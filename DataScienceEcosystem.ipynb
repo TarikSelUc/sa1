{
 "cells": [
  {
   "cell_type": "markdown",
   "id": "69225d13-eb8b-453b-9e09-632d6db625bf",
   "metadata": {},
   "source": [
    "# Data Science Tools and Ecosystem"
   ]
  },
  {
   "cell_type": "markdown",
   "id": "75e135c9-1421-4066-a8b5-fab3c3641ac4",
   "metadata": {},
   "source": [
    "In this notebook, Data Science Tools and Ecosystem are summarized."
   ]
  },
  {
   "cell_type": "markdown",
   "id": "a7f95df0-c008-40f9-bd43-9973aa4c90ea",
   "metadata": {},
   "source": [
    "**Objectives:**\r\n",
    "\r\n",
    "- List popular languages for Data Science\r\n",
    "- Identify commonly used libraries in Data Scieence\r\n",
    "- Demonstrate basic arithmetic operations in P\n",
    "- List of Data Science Toolsython\r\n",
    "- Convert minutes to hours in Python"
   ]
  },
  {
   "cell_type": "markdown",
   "id": "041a6df0-29bc-437d-868f-48f2872f6c6e",
   "metadata": {},
   "source": [
    "Some of the popular languages that Data Scientists use are:\n",
    "- Python\n",
    "- R\n",
    "- SQL\n",
    "- Julia\n",
    "- Java"
   ]
  },
  {
   "cell_type": "markdown",
   "id": "bf0104b9-59be-4694-bdca-7d7f4d8ceb83",
   "metadata": {},
   "source": [
    "Some of the commonly used libraries used by Data Scientists include:\n",
    "1. Pandas\n",
    "2. NumPy\n",
    "3. Matplotlib\n",
    "4. Seaborn\n",
    "5. Scikit-learn"
   ]
  },
  {
   "cell_type": "markdown",
   "id": "2ac266ed-c962-4f90-b177-2354633a0a9b",
   "metadata": {},
   "source": [
    "| **Data Science Tools**           |\r\n",
    "|----------------------------------|\r\n",
    "| Jupyter Notebook                 |\r\n",
    "| RStudio                          |\r\n",
    "| Apache Zeppelin                  |"
   ]
  },
  {
   "cell_type": "markdown",
   "id": "eed3dcfc-3752-48fc-b654-cec39ae45d26",
   "metadata": {},
   "source": [
    "### Below are a few examples of evaluating arithmetic expressions in Python.\n"
   ]
  },
  {
   "cell_type": "code",
   "execution_count": 11,
   "id": "e58512a3-c0b2-452e-b796-905572194370",
   "metadata": {},
   "outputs": [
    {
     "data": {
      "text/plain": [
       "17"
      ]
     },
     "execution_count": 11,
     "metadata": {},
     "output_type": "execute_result"
    }
   ],
   "source": [
    "# This is a simple arithmetic expression to multiply then add integers\n",
    "(3*4) + 5"
   ]
  },
  {
   "cell_type": "code",
   "execution_count": 12,
   "id": "47ecf907-6740-4625-8d54-591e11850e5e",
   "metadata": {},
   "outputs": [
    {
     "name": "stdout",
     "output_type": "stream",
     "text": [
      "3.3333333333333335\n"
     ]
    }
   ],
   "source": [
    "# This will convert 200 minutes to hours by dividing by 60\n",
    "x = 200\n",
    "Hours = x / 60\n",
    "print(Hours)"
   ]
  },
  {
   "cell_type": "markdown",
   "id": "317ef0cc-fc26-41a6-87fc-77d6c839ca6b",
   "metadata": {},
   "source": [
    "## Author\r\n",
    "\r\n",
    "Tarik Ucuncu"
   ]
  },
  {
   "cell_type": "code",
   "execution_count": null,
   "id": "660d4c45-2dbd-4296-b74b-bbda4e894c4c",
   "metadata": {},
   "outputs": [],
   "source": []
  }
 ],
 "metadata": {
  "kernelspec": {
   "display_name": "Python 3 (ipykernel)",
   "language": "python",
   "name": "python3"
  },
  "language_info": {
   "codemirror_mode": {
    "name": "ipython",
    "version": 3
   },
   "file_extension": ".py",
   "mimetype": "text/x-python",
   "name": "python",
   "nbconvert_exporter": "python",
   "pygments_lexer": "ipython3",
   "version": "3.12.4"
  }
 },
 "nbformat": 4,
 "nbformat_minor": 5
}
